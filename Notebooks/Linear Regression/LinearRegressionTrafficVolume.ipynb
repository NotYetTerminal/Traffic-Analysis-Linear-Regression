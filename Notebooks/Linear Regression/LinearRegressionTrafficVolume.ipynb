{
 "cells": [
  {
   "cell_type": "code",
   "execution_count": 1,
   "id": "a4d55f60-4279-493d-a9c5-270715b2bb71",
   "metadata": {},
   "outputs": [],
   "source": [
    "# Notebook adapted from linear regression notebook from the Python Data Science Handbook\n",
    "# Modified by: Gábor Major\n",
    "# Last Modified date: 2024-10-08"
   ]
  },
  {
   "cell_type": "code",
   "execution_count": 4,
   "id": "8be342af-ade6-4eb0-b47e-dd183c731d52",
   "metadata": {},
   "outputs": [],
   "source": [
    "# Imports\n",
    "%matplotlib inline\n",
    "import matplotlib.pyplot as plt\n",
    "plt.style.use('seaborn-v0_8-whitegrid')\n",
    "import numpy as np\n",
    "import os"
   ]
  },
  {
   "cell_type": "code",
   "execution_count": 70,
   "id": "814f37f3-8327-48bd-89d2-0353f172a86a",
   "metadata": {},
   "outputs": [],
   "source": [
    "# Import data\n",
    "import pandas as pd\n",
    "traffic_data_list = [pd.read_csv('data/' + x, sep=',', header=0, usecols=[0, 1, 2, 4, 5]) for x in os.listdir('data')]"
   ]
  },
  {
   "cell_type": "code",
   "execution_count": 71,
   "id": "cae9f404-3609-4271-a4e8-0190539d4725",
   "metadata": {},
   "outputs": [
    {
     "name": "stdout",
     "output_type": "stream",
     "text": [
      "               End_Time Region  Site  Sum_Volume  Avg_Volume\n",
      "0        20230228060000  CCITY   782           0           0\n",
      "1        20230228060000  CCITY   782           0           0\n",
      "2        20230228060000  CCITY   782           0           0\n",
      "3        20230228060000  CCITY   782           0           0\n",
      "4        20230228060000  CCITY   782           0           0\n",
      "...                 ...    ...   ...         ...         ...\n",
      "9430335  20230228060000    IRE   745          59           4\n",
      "9430336  20230228060000    IRE   745          18           1\n",
      "9430337  20230228060000    IRE   745          20           1\n",
      "9430338  20230228060000    IRE   745          26           2\n",
      "9430339  20230228060000    IRE   745          41           3\n",
      "\n",
      "[9430340 rows x 5 columns]\n",
      "<class 'pandas.core.frame.DataFrame'>\n",
      "2\n"
     ]
    }
   ],
   "source": [
    "print(traffic_data_list[0])\n",
    "print(type(traffic_data_list[0]))\n",
    "print(len(traffic_data_list))"
   ]
  },
  {
   "cell_type": "code",
   "execution_count": 84,
   "id": "1d73878f-a240-491b-9032-7b13fc4c568c",
   "metadata": {},
   "outputs": [
    {
     "name": "stdout",
     "output_type": "stream",
     "text": [
      "0\n",
      "14070\n",
      "Sum_Volume    128269\n",
      "dtype: int64\n",
      "20230228050000\n"
     ]
    }
   ],
   "source": [
    "# Sum up data for each camera at each site\n",
    "summed_traffic_volume_dataframe = pd.DataFrame()\n",
    "for volume_data in traffic_data_list:\n",
    "\n",
    "    site_numbers = volume_data['Site'].unique()\n",
    "    for site_number in site_numbers:\n",
    "        specific_site_data = volume_data.loc[volume_data['Site'] == site_number]\n",
    "        \n",
    "        start_row = 0\n",
    "        previous_time = specific_site_data.iloc[0, 0]\n",
    "        region_code = specific_site_data.iloc[0, 1]\n",
    "        \n",
    "        for index, row in specific_site_data.iterrows():\n",
    "            if row['End_Time'] != previous_time:\n",
    "                print(start_row)\n",
    "                print(index)\n",
    "                print(volume_data.iloc[start_row:index, 3:4].sum())\n",
    "                previous_data = pd.DataFrame({\n",
    "                    'End_Time': previous_time,\n",
    "                    'Region': region_code,\n",
    "                    'Site': previous_site_number,\n",
    "                    'Sum_Volume': volume_data.iloc[start_row:index, 3:4].sum(),\n",
    "                    'Avg_Volume': volume_data.iloc[start_row:index, 3:4].sum()\n",
    "                })\n",
    "\n",
    "                summed_traffic_volume_dataframe = pd.concat([summed_traffic_volume_dataframe, previous_data])\n",
    "                start_row = index\n",
    "                previous_time = row['End_Time']\n",
    "                print(previous_time)\n",
    "            if index > 10:\n",
    "                break\n",
    "        break\n",
    "    break\n",
    "            \n",
    "    # for index, row in volume_data.iterrows():\n",
    "        \n",
    "        # if row['Site'] != previous_site_number:\n",
    "            # previous_data = pd.DataFrame({\n",
    "            #     'End_Time': volume_data.iloc[index - 1, 0:1],\n",
    "            #     'Region': volume_data.iloc[index - 1, 1:2],\n",
    "            #     'Site': previous_site_number,\n",
    "            #     'Sum_Volume': volume_data.iloc[start_row:index, 3:4].sum(),\n",
    "            #     'Avg_Volume': volume_data.iloc[start_row:index, 3:4].sum()\n",
    "            # })\n",
    "            \n",
    "        #     summed_traffic_volume_dataframe = pd.concat([summed_traffic_volume_dataframe, previous_data])\n",
    "        #     start_row = index\n",
    "        #     previous_site_number = row['Site']\n",
    "        # if index > 100:\n",
    "        #     print(type(volume_data.iloc[start_row:index, 3:4].sum()))\n",
    "        #     print(row)\n",
    "        #     break\n"
   ]
  },
  {
   "cell_type": "code",
   "execution_count": 82,
   "id": "a308b3be-b403-479e-b75d-a4af2ae162e4",
   "metadata": {},
   "outputs": [
    {
     "name": "stdout",
     "output_type": "stream",
     "text": [
      "                  End_Time Region  Site  Sum_Volume  Avg_Volume\n",
      "Sum_Volume  20230228060000  CCITY   782      128269      128269\n"
     ]
    }
   ],
   "source": [
    "print(summed_traffic_volume_dataframe)"
   ]
  },
  {
   "cell_type": "code",
   "execution_count": null,
   "id": "ccbbfa0e-81d9-487c-a2a7-6c47e13fda65",
   "metadata": {},
   "outputs": [],
   "source": [
    "# Convert to numpy data\n",
    "x = input_data[0].to_numpy()\n",
    "y = input_data[1].to_numpy()\n",
    "plt.scatter(x, y)"
   ]
  },
  {
   "cell_type": "code",
   "execution_count": null,
   "id": "19a08618-09f0-457a-90c0-f00ae55683ec",
   "metadata": {},
   "outputs": [],
   "source": [
    "# Create 7-th degree polynomial model\n",
    "from sklearn.pipeline import make_pipeline\n",
    "from sklearn.linear_model import LinearRegression\n",
    "poly_model = make_pipeline(PolynomialFeatures(7),\n",
    "                           LinearRegression())"
   ]
  },
  {
   "cell_type": "code",
   "execution_count": null,
   "id": "376886b3-6c12-400a-8cfe-4f47b06a019f",
   "metadata": {},
   "outputs": [],
   "source": [
    "# Fit data\n",
    "poly_model.fit(x, y)"
   ]
  },
  {
   "cell_type": "code",
   "execution_count": null,
   "id": "ec423054-c8fc-430d-a50f-9ccabf21c214",
   "metadata": {},
   "outputs": [],
   "source": [
    "# Create test set\n",
    "xfit = np.linspace(0, 10, 1000)\n",
    "yfit = poly_model.predict(xfit[:, np.newaxis])"
   ]
  },
  {
   "cell_type": "code",
   "execution_count": null,
   "id": "ce095e26-cb60-4111-9528-fcc183bf2d1e",
   "metadata": {},
   "outputs": [],
   "source": [
    "# Plot data\n",
    "plt.scatter(x, y)\n",
    "plt.plot(xfit, yfit);"
   ]
  }
 ],
 "metadata": {
  "kernelspec": {
   "display_name": "Python 3 (ipykernel)",
   "language": "python",
   "name": "python3"
  },
  "language_info": {
   "codemirror_mode": {
    "name": "ipython",
    "version": 3
   },
   "file_extension": ".py",
   "mimetype": "text/x-python",
   "name": "python",
   "nbconvert_exporter": "python",
   "pygments_lexer": "ipython3",
   "version": "3.12.5"
  }
 },
 "nbformat": 4,
 "nbformat_minor": 5
}
