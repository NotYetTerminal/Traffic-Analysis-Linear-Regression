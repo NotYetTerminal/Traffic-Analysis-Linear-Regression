{
 "cells": [
  {
   "cell_type": "code",
   "execution_count": 2,
   "id": "a4d55f60-4279-493d-a9c5-270715b2bb71",
   "metadata": {},
   "outputs": [],
   "source": [
    "# Notebook adapted from linear regression notebook from the Python Data Science Handbook\n",
    "# Modified by: Gábor Major\n",
    "# Last Modified date: 2024-10-08"
   ]
  },
  {
   "cell_type": "code",
   "execution_count": 4,
   "id": "8be342af-ade6-4eb0-b47e-dd183c731d52",
   "metadata": {},
   "outputs": [],
   "source": [
    "# Imports\n",
    "%matplotlib inline\n",
    "import matplotlib.pyplot as plt\n",
    "plt.style.use('seaborn-v0_8-whitegrid')\n",
    "import numpy as np\n",
    "import pandas as pd"
   ]
  },
  {
   "cell_type": "code",
   "execution_count": 20,
   "id": "814f37f3-8327-48bd-89d2-0353f172a86a",
   "metadata": {},
   "outputs": [],
   "source": [
    "# Import raw data\n",
    "# To use already cleaned data skip down 6 cells\n",
    "# Data from: https://data.gov.ie/dataset/dcc-scats-detector-volume-jan-jun-2023\n",
    "traffic_data_list = pd.read_csv('data/SCATSFebruary2023.csv', sep=',', header=0, usecols=[0, 1, 2, 4, 5])"
   ]
  },
  {
   "cell_type": "code",
   "execution_count": 21,
   "id": "cae9f404-3609-4271-a4e8-0190539d4725",
   "metadata": {},
   "outputs": [
    {
     "name": "stdout",
     "output_type": "stream",
     "text": [
      "               End_Time Region  Site  Sum_Volume  Avg_Volume\n",
      "0        20230228060000  CCITY   782           0           0\n",
      "1        20230228060000  CCITY   782           0           0\n",
      "2        20230228060000  CCITY   782           0           0\n",
      "3        20230228060000  CCITY   782           0           0\n",
      "4        20230228060000  CCITY   782           0           0\n",
      "...                 ...    ...   ...         ...         ...\n",
      "9430335  20230228060000    IRE   745          59           4\n",
      "9430336  20230228060000    IRE   745          18           1\n",
      "9430337  20230228060000    IRE   745          20           1\n",
      "9430338  20230228060000    IRE   745          26           2\n",
      "9430339  20230228060000    IRE   745          41           3\n",
      "\n",
      "[9430340 rows x 5 columns]\n",
      "<class 'pandas.core.frame.DataFrame'>\n"
     ]
    }
   ],
   "source": [
    "print(traffic_data_list)\n",
    "print(type(traffic_data_list))"
   ]
  },
  {
   "cell_type": "code",
   "execution_count": 22,
   "id": "b8c068e4-c423-478f-894b-7e4aafa9da11",
   "metadata": {},
   "outputs": [],
   "source": [
    "# Function for processing raw file\n",
    "def sum_site_number_vaues(site_number, volume_list):\n",
    "    specific_site_data = volume_data.loc[volume_data['Site'] == site_number]\n",
    "    \n",
    "    start_row_index = 0\n",
    "    previous_time = specific_site_data.iloc[0, 0]\n",
    "    region_code = specific_site_data.iloc[0, 1]\n",
    "    row_index = 0\n",
    "    \n",
    "    for _, row in specific_site_data.iterrows():\n",
    "        if row['End_Time'] != previous_time:\n",
    "            volume_list.append([\n",
    "                int(previous_time),\n",
    "                region_code,\n",
    "                int(site_number),\n",
    "                int(specific_site_data.iloc[start_row_index:row_index, 3:4].sum().iloc[0]),\n",
    "                int(specific_site_data.iloc[start_row_index:row_index, 4:5].sum().iloc[0])\n",
    "            ])\n",
    "            \n",
    "            start_row_index = row_index\n",
    "            previous_time = row['End_Time']\n",
    "        \n",
    "        row_index += 1"
   ]
  },
  {
   "cell_type": "code",
   "execution_count": 6,
   "id": "1d73878f-a240-491b-9032-7b13fc4c568c",
   "metadata": {},
   "outputs": [
    {
     "name": "stdout",
     "output_type": "stream",
     "text": [
      "100\n",
      "200\n",
      "300\n",
      "400\n",
      "500\n",
      "600\n",
      "700\n",
      "800\n",
      "900\n"
     ]
    }
   ],
   "source": [
    "from multiprocessing import Process, Manager\n",
    "# Sum up data for each camera at each site\n",
    "summed_traffic_volume_list = Manager().list()\n",
    "\n",
    "site_numbers = traffic_data_list['Site'].unique()\n",
    "process_list = []\n",
    "counter = 0\n",
    "\n",
    "for number in site_numbers:\n",
    "    process = Process(target=sum_site_number_vaues, args=(number,summed_traffic_volume_list,))\n",
    "    process_list.append(process)\n",
    "    process.start()\n",
    "    counter += 1\n",
    "    if counter % 100 == 0:\n",
    "        print(counter)\n",
    "\n",
    "for process in process_list:\n",
    "    process.join()"
   ]
  },
  {
   "cell_type": "code",
   "execution_count": 12,
   "id": "a308b3be-b403-479e-b75d-a4af2ae162e4",
   "metadata": {},
   "outputs": [
    {
     "name": "stdout",
     "output_type": "stream",
     "text": [
      "611851\n"
     ]
    }
   ],
   "source": [
    "print(len(summed_traffic_volume_list))"
   ]
  },
  {
   "cell_type": "code",
   "execution_count": 17,
   "id": "9c4f30f3-1462-4733-811d-c733b9cc23d6",
   "metadata": {},
   "outputs": [],
   "source": [
    "# Save cleaned file\n",
    "import csv\n",
    "columns_names = ['End_Time', 'Region', 'Site', 'Sum_Volume', 'Avg_Volume']\n",
    "with open('data/summed_data.csv', 'w') as f:\n",
    "    writer = csv.writer(f)\n",
    "    writer.writerow(columns_names)\n",
    "    writer.writerows(summed_traffic_volume_list)"
   ]
  },
  {
   "cell_type": "code",
   "execution_count": 5,
   "id": "84a080de-e4ee-405f-bc8b-f6a014b5525b",
   "metadata": {},
   "outputs": [
    {
     "name": "stdout",
     "output_type": "stream",
     "text": [
      "              End_Time Region  Site  Sum_Volume  Avg_Volume\n",
      "0       20230228060000  CCITY   782           0           0\n",
      "1       20230228050000  CCITY   782          90           7\n",
      "2       20230228040000  CCITY   782         194          15\n",
      "3       20230228030000  CCITY   782         121           9\n",
      "4       20230228060000  CCITY   796         266          18\n",
      "...                ...    ...   ...         ...         ...\n",
      "611846  20230228110000    IRE  6381          86           4\n",
      "611847  20230228100000    IRE  6381         105           5\n",
      "611848  20230228090000    IRE  6381         133           8\n",
      "611849  20230228080000    IRE  6381          74           3\n",
      "611850  20230228070000    IRE  6381          65           3\n",
      "\n",
      "[611851 rows x 5 columns]\n"
     ]
    }
   ],
   "source": [
    "# Import cleaned data\n",
    "cleaned_data = pd.read_csv('data/summed_data.csv', sep=',', header=0)\n",
    "print(cleaned_data)"
   ]
  },
  {
   "cell_type": "code",
   "execution_count": null,
   "id": "e6d2bb18-542e-448c-bf40-0e521f68e05c",
   "metadata": {},
   "outputs": [],
   "source": [
    "# Categorise data\n",
    "time_and_volume = []\n",
    "region_and_volume = []"
   ]
  },
  {
   "cell_type": "code",
   "execution_count": null,
   "id": "ccbbfa0e-81d9-487c-a2a7-6c47e13fda65",
   "metadata": {},
   "outputs": [],
   "source": [
    "# Convert to numpy data\n",
    "x = input_data[0].to_numpy()\n",
    "y = input_data[1].to_numpy()\n",
    "plt.scatter(x, y)"
   ]
  },
  {
   "cell_type": "code",
   "execution_count": null,
   "id": "19a08618-09f0-457a-90c0-f00ae55683ec",
   "metadata": {},
   "outputs": [],
   "source": [
    "# Create 7-th degree polynomial model\n",
    "from sklearn.pipeline import make_pipeline\n",
    "from sklearn.linear_model import LinearRegression\n",
    "poly_model = make_pipeline(PolynomialFeatures(7),\n",
    "                           LinearRegression())"
   ]
  },
  {
   "cell_type": "code",
   "execution_count": null,
   "id": "376886b3-6c12-400a-8cfe-4f47b06a019f",
   "metadata": {},
   "outputs": [],
   "source": [
    "# Fit data\n",
    "poly_model.fit(x, y)"
   ]
  },
  {
   "cell_type": "code",
   "execution_count": null,
   "id": "ec423054-c8fc-430d-a50f-9ccabf21c214",
   "metadata": {},
   "outputs": [],
   "source": [
    "# Create test set\n",
    "xfit = np.linspace(0, 10, 1000)\n",
    "yfit = poly_model.predict(xfit[:, np.newaxis])"
   ]
  },
  {
   "cell_type": "code",
   "execution_count": null,
   "id": "ce095e26-cb60-4111-9528-fcc183bf2d1e",
   "metadata": {},
   "outputs": [],
   "source": [
    "# Plot data\n",
    "plt.scatter(x, y)\n",
    "plt.plot(xfit, yfit);"
   ]
  }
 ],
 "metadata": {
  "kernelspec": {
   "display_name": "Python 3 (ipykernel)",
   "language": "python",
   "name": "python3"
  },
  "language_info": {
   "codemirror_mode": {
    "name": "ipython",
    "version": 3
   },
   "file_extension": ".py",
   "mimetype": "text/x-python",
   "name": "python",
   "nbconvert_exporter": "python",
   "pygments_lexer": "ipython3",
   "version": "3.12.5"
  }
 },
 "nbformat": 4,
 "nbformat_minor": 5
}
